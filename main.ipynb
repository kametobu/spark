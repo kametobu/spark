{
 "cells": [
  {
   "cell_type": "code",
   "execution_count": 1,
   "id": "afe1ad0b-55dd-47a3-b140-fbd547cafad2",
   "metadata": {},
   "outputs": [
    {
     "name": "stderr",
     "output_type": "stream",
     "text": [
      "25/03/06 10:22:54 WARN Utils: Your hostname, SMSSIC10194 resolves to a loopback address: 127.0.1.1; using 172.31.29.9 instead (on interface eth0)\n",
      "25/03/06 10:22:54 WARN Utils: Set SPARK_LOCAL_IP if you need to bind to another address\n",
      "Setting default log level to \"WARN\".\n",
      "To adjust logging level use sc.setLogLevel(newLevel). For SparkR, use setLogLevel(newLevel).\n",
      "25/03/06 10:22:55 WARN NativeCodeLoader: Unable to load native-hadoop library for your platform... using builtin-java classes where applicable\n"
     ]
    }
   ],
   "source": [
    "from pyspark.sql import SparkSession\n",
    "\n",
    "spark = SparkSession.builder.master('local[*]').appName(\"APP\").getOrCreate()\n"
   ]
  },
  {
   "cell_type": "code",
   "execution_count": 2,
   "id": "bd35e7b9-c66f-4487-be48-ac80eae6a8c7",
   "metadata": {},
   "outputs": [
    {
     "data": {
      "text/html": [
       "\n",
       "            <div>\n",
       "                <p><b>SparkSession - in-memory</b></p>\n",
       "                \n",
       "        <div>\n",
       "            <p><b>SparkContext</b></p>\n",
       "\n",
       "            <p><a href=\"http://172.31.29.9:4040\">Spark UI</a></p>\n",
       "\n",
       "            <dl>\n",
       "              <dt>Version</dt>\n",
       "                <dd><code>v3.5.5</code></dd>\n",
       "              <dt>Master</dt>\n",
       "                <dd><code>local[*]</code></dd>\n",
       "              <dt>AppName</dt>\n",
       "                <dd><code>APP</code></dd>\n",
       "            </dl>\n",
       "        </div>\n",
       "        \n",
       "            </div>\n",
       "        "
      ],
      "text/plain": [
       "<pyspark.sql.session.SparkSession at 0x7fb5d042af50>"
      ]
     },
     "execution_count": 2,
     "metadata": {},
     "output_type": "execute_result"
    }
   ],
   "source": [
    "spark"
   ]
  },
  {
   "cell_type": "code",
   "execution_count": 22,
   "id": "c29daf1b-1b90-45a8-9b2b-3816689cb2d9",
   "metadata": {},
   "outputs": [],
   "source": [
    "df = spark.read.csv(\"/mnt/c/Users/x530346L/Documents/Spark/march-machine-learning-mania-2025/MTeams.csv\", inferSchema=True, header=True)"
   ]
  },
  {
   "cell_type": "code",
   "execution_count": 31,
   "id": "5db81988-8492-42a3-8218-603321f880f6",
   "metadata": {},
   "outputs": [
    {
     "data": {
      "text/plain": [
       "['TeamID', 'TeamName', 'FirstD1Season', 'LastD1Season']"
      ]
     },
     "execution_count": 31,
     "metadata": {},
     "output_type": "execute_result"
    }
   ],
   "source": [
    "df.columns"
   ]
  },
  {
   "cell_type": "code",
   "execution_count": 10,
   "id": "196b410b-f212-41fc-8d1d-3511548bc6db",
   "metadata": {},
   "outputs": [
    {
     "name": "stdout",
     "output_type": "stream",
     "text": [
      "root\n",
      " |-- TeamID: integer (nullable = true)\n",
      " |-- TeamName: string (nullable = true)\n",
      " |-- FirstD1Season: integer (nullable = true)\n",
      " |-- LastD1Season: integer (nullable = true)\n",
      "\n"
     ]
    }
   ],
   "source": [
    "df.printSchema()"
   ]
  },
  {
   "cell_type": "code",
   "execution_count": 11,
   "id": "589cc8c0-5088-4a30-84f7-2954a7313eab",
   "metadata": {},
   "outputs": [
    {
     "name": "stdout",
     "output_type": "stream",
     "text": [
      "+------+---------------+-------------+------------+\n",
      "|TeamID|       TeamName|FirstD1Season|LastD1Season|\n",
      "+------+---------------+-------------+------------+\n",
      "|  1101|    Abilene Chr|         2014|        2025|\n",
      "|  1102|      Air Force|         1985|        2025|\n",
      "|  1103|          Akron|         1985|        2025|\n",
      "|  1104|        Alabama|         1985|        2025|\n",
      "|  1105|    Alabama A&M|         2000|        2025|\n",
      "|  1106|     Alabama St|         1985|        2025|\n",
      "|  1107|    SUNY Albany|         2000|        2025|\n",
      "|  1108|      Alcorn St|         1985|        2025|\n",
      "|  1109|   Alliant Intl|         1985|        1991|\n",
      "|  1110|  American Univ|         1985|        2025|\n",
      "|  1111| Appalachian St|         1985|        2025|\n",
      "|  1112|        Arizona|         1985|        2025|\n",
      "|  1113|     Arizona St|         1985|        2025|\n",
      "|  1114|Ark Little Rock|         1985|        2025|\n",
      "|  1115| Ark Pine Bluff|         1999|        2025|\n",
      "|  1116|       Arkansas|         1985|        2025|\n",
      "|  1117|    Arkansas St|         1985|        2025|\n",
      "|  1118|   Armstrong St|         1987|        1987|\n",
      "|  1119|           Army|         1985|        2025|\n",
      "|  1120|         Auburn|         1985|        2025|\n",
      "+------+---------------+-------------+------------+\n",
      "only showing top 20 rows\n",
      "\n"
     ]
    }
   ],
   "source": [
    "df.show()"
   ]
  },
  {
   "cell_type": "code",
   "execution_count": 53,
   "id": "78b6f704-0597-4643-9801-72197be557f5",
   "metadata": {},
   "outputs": [
    {
     "data": {
      "text/plain": [
       "380"
      ]
     },
     "execution_count": 53,
     "metadata": {},
     "output_type": "execute_result"
    }
   ],
   "source": [
    "df.count()"
   ]
  },
  {
   "cell_type": "code",
   "execution_count": 55,
   "id": "fd240636-0c3b-4627-a6b3-5db112e19b23",
   "metadata": {},
   "outputs": [
    {
     "name": "stdout",
     "output_type": "stream",
     "text": [
      "+------+---------------+-------------+------------+\n",
      "|TeamID|       TeamName|FirstD1Season|LastD1Season|\n",
      "+------+---------------+-------------+------------+\n",
      "|  1101|    Abilene Chr|         2014|        2025|\n",
      "|  1102|      Air Force|         1985|        2025|\n",
      "|  1103|          Akron|         1985|        2025|\n",
      "|  1104|        Alabama|         1985|        2025|\n",
      "|  1105|    Alabama A&M|         2000|        2025|\n",
      "|  1106|     Alabama St|         1985|        2025|\n",
      "|  1107|    SUNY Albany|         2000|        2025|\n",
      "|  1108|      Alcorn St|         1985|        2025|\n",
      "|  1109|   Alliant Intl|         1985|        1991|\n",
      "|  1110|  American Univ|         1985|        2025|\n",
      "|  1111| Appalachian St|         1985|        2025|\n",
      "|  1112|        Arizona|         1985|        2025|\n",
      "|  1113|     Arizona St|         1985|        2025|\n",
      "|  1114|Ark Little Rock|         1985|        2025|\n",
      "|  1115| Ark Pine Bluff|         1999|        2025|\n",
      "|  1116|       Arkansas|         1985|        2025|\n",
      "|  1117|    Arkansas St|         1985|        2025|\n",
      "|  1118|   Armstrong St|         1987|        1987|\n",
      "|  1119|           Army|         1985|        2025|\n",
      "|  1120|         Auburn|         1985|        2025|\n",
      "+------+---------------+-------------+------------+\n",
      "only showing top 20 rows\n",
      "\n"
     ]
    }
   ],
   "source": [
    "df.show()"
   ]
  },
  {
   "cell_type": "code",
   "execution_count": 52,
   "id": "7dd9b789-b3cf-482a-9196-ef804b0c2570",
   "metadata": {},
   "outputs": [
    {
     "name": "stdout",
     "output_type": "stream",
     "text": [
      "+------+---------+-------------+------------+\n",
      "|TeamID| TeamName|FirstD1Season|LastD1Season|\n",
      "+------+---------+-------------+------------+\n",
      "|  1102|Air Force|         1985|        2025|\n",
      "+------+---------+-------------+------------+\n",
      "\n"
     ]
    }
   ],
   "source": [
    "df.where(\"TeamID == 1102\").show()"
   ]
  }
 ],
 "metadata": {
  "kernelspec": {
   "display_name": "Python 3 (ipykernel)",
   "language": "python",
   "name": "python3"
  },
  "language_info": {
   "codemirror_mode": {
    "name": "ipython",
    "version": 3
   },
   "file_extension": ".py",
   "mimetype": "text/x-python",
   "name": "python",
   "nbconvert_exporter": "python",
   "pygments_lexer": "ipython3",
   "version": "3.10.12"
  }
 },
 "nbformat": 4,
 "nbformat_minor": 5
}
