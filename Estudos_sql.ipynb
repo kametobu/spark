{
 "cells": [
  {
   "cell_type": "markdown",
   "id": "521b3ce0-e1d8-407a-9180-b862b38adf5c",
   "metadata": {},
   "source": [
    "# poetry - python"
   ]
  },
  {
   "cell_type": "code",
   "execution_count": 1,
   "id": "b874c89d-e9ef-4c3e-86e0-ec79e19209a9",
   "metadata": {},
   "outputs": [],
   "source": [
    "from pyspark.sql import SparkSession"
   ]
  },
  {
   "cell_type": "code",
   "execution_count": 2,
   "id": "bb091752-7fd9-477b-8587-ad1eb2022a71",
   "metadata": {},
   "outputs": [
    {
     "name": "stderr",
     "output_type": "stream",
     "text": [
      "25/03/07 10:25:45 WARN Utils: Your hostname, SMSSIC10194 resolves to a loopback address: 127.0.1.1; using 172.31.29.9 instead (on interface eth0)\n",
      "25/03/07 10:25:45 WARN Utils: Set SPARK_LOCAL_IP if you need to bind to another address\n",
      "Setting default log level to \"WARN\".\n",
      "To adjust logging level use sc.setLogLevel(newLevel). For SparkR, use setLogLevel(newLevel).\n",
      "25/03/07 10:25:46 WARN NativeCodeLoader: Unable to load native-hadoop library for your platform... using builtin-java classes where applicable\n",
      "25/03/07 10:25:47 WARN Utils: Service 'SparkUI' could not bind on port 4040. Attempting port 4041.\n"
     ]
    }
   ],
   "source": [
    "spark = SparkSession.builder.master(\"local[*]\").appName('Etanol_Gasolina').getOrCreate()"
   ]
  },
  {
   "cell_type": "code",
   "execution_count": 3,
   "id": "db23fc2e-1d65-4489-b889-79bdb7cabb00",
   "metadata": {},
   "outputs": [],
   "source": [
    "df = (spark\n",
    "      .read\n",
    "      .option('delimiter', ';')\n",
    "      .option('header', 'true')\n",
    "      .option('inferSchema', 'true')\n",
    "      .option('enconding', 'ISO-8859-1')\n",
    "      .csv(\"./precos-gasolina-etanol-12.csv\")\n",
    ")"
   ]
  },
  {
   "cell_type": "code",
   "execution_count": 4,
   "id": "20f8f2e2-13e9-43cb-9cf1-299ef32d8c36",
   "metadata": {},
   "outputs": [
    {
     "name": "stdout",
     "output_type": "stream",
     "text": [
      "root\n",
      " |-- Regiao - Sigla: string (nullable = true)\n",
      " |-- Estado - Sigla: string (nullable = true)\n",
      " |-- Municipio: string (nullable = true)\n",
      " |-- Revenda: string (nullable = true)\n",
      " |-- CNPJ da Revenda: string (nullable = true)\n",
      " |-- Nome da Rua: string (nullable = true)\n",
      " |-- Numero Rua: string (nullable = true)\n",
      " |-- Complemento: string (nullable = true)\n",
      " |-- Bairro: string (nullable = true)\n",
      " |-- Cep: string (nullable = true)\n",
      " |-- Produto: string (nullable = true)\n",
      " |-- Data da Coleta: string (nullable = true)\n",
      " |-- Valor de Venda: string (nullable = true)\n",
      " |-- Valor de Compra: string (nullable = true)\n",
      " |-- Unidade de Medida: string (nullable = true)\n",
      " |-- Bandeira: string (nullable = true)\n",
      "\n"
     ]
    }
   ],
   "source": [
    "df.printSchema()"
   ]
  },
  {
   "cell_type": "code",
   "execution_count": 5,
   "id": "67bf7d5f-5a81-43e0-9fa5-5d692d5b4c40",
   "metadata": {},
   "outputs": [],
   "source": [
    "df.createOrReplaceTempView('combustiveis')"
   ]
  },
  {
   "cell_type": "code",
   "execution_count": 13,
   "id": "a1310e22-5883-4e23-a80e-fbd33ace4fda",
   "metadata": {},
   "outputs": [
    {
     "name": "stdout",
     "output_type": "stream",
     "text": [
      "+--------------+------------------+---------------+--------------+-----------------+\n",
      "|Estado - Sigla|           Produto|Valor de Compra|Valor de Venda|Unidade de Medida|\n",
      "+--------------+------------------+---------------+--------------+-----------------+\n",
      "|            SP|          GASOLINA|           NULL|          5,42|       R$ / litro|\n",
      "|            SP|            ETANOL|           NULL|          3,59|       R$ / litro|\n",
      "|            AL|          GASOLINA|           NULL|          5,99|       R$ / litro|\n",
      "|            AP|          GASOLINA|           NULL|          5,83|       R$ / litro|\n",
      "|            AP|          GASOLINA|           NULL|          5,83|       R$ / litro|\n",
      "|            AP|          GASOLINA|           NULL|          5,83|       R$ / litro|\n",
      "|            AP|          GASOLINA|           NULL|          5,89|       R$ / litro|\n",
      "|            AP|GASOLINA ADITIVADA|           NULL|          6,17|       R$ / litro|\n",
      "|            AP|          GASOLINA|           NULL|          5,83|       R$ / litro|\n",
      "|            AP|          GASOLINA|           NULL|          5,83|       R$ / litro|\n",
      "|            AP|            ETANOL|           NULL|          5,11|       R$ / litro|\n",
      "|            AP|          GASOLINA|           NULL|          5,99|       R$ / litro|\n",
      "|            BA|          GASOLINA|           NULL|          6,59|       R$ / litro|\n",
      "|            BA|            ETANOL|           NULL|          4,69|       R$ / litro|\n",
      "|            BA|          GASOLINA|           NULL|          6,55|       R$ / litro|\n",
      "|            BA|GASOLINA ADITIVADA|           NULL|          6,65|       R$ / litro|\n",
      "|            BA|            ETANOL|           NULL|          4,65|       R$ / litro|\n",
      "|            BA|          GASOLINA|           NULL|          6,38|       R$ / litro|\n",
      "|            BA|GASOLINA ADITIVADA|           NULL|          6,46|       R$ / litro|\n",
      "|            BA|            ETANOL|           NULL|          4,78|       R$ / litro|\n",
      "|            BA|          GASOLINA|           NULL|          6,13|       R$ / litro|\n",
      "|            BA|GASOLINA ADITIVADA|           NULL|          6,13|       R$ / litro|\n",
      "|            BA|            ETANOL|           NULL|          4,50|       R$ / litro|\n",
      "|            BA|          GASOLINA|           NULL|          6,25|       R$ / litro|\n",
      "|            BA|GASOLINA ADITIVADA|           NULL|          6,25|       R$ / litro|\n",
      "|            BA|            ETANOL|           NULL|          4,25|       R$ / litro|\n",
      "|            BA|          GASOLINA|           NULL|          6,29|       R$ / litro|\n",
      "|            BA|GASOLINA ADITIVADA|           NULL|          6,69|       R$ / litro|\n",
      "|            BA|            ETANOL|           NULL|          4,29|       R$ / litro|\n",
      "|            BA|          GASOLINA|           NULL|          6,25|       R$ / litro|\n",
      "|            BA|            ETANOL|           NULL|          4,25|       R$ / litro|\n",
      "|            BA|          GASOLINA|           NULL|          6,30|       R$ / litro|\n",
      "|            BA|GASOLINA ADITIVADA|           NULL|          6,40|       R$ / litro|\n",
      "|            BA|            ETANOL|           NULL|          4,49|       R$ / litro|\n",
      "|            BA|          GASOLINA|           NULL|          6,29|       R$ / litro|\n",
      "|            BA|GASOLINA ADITIVADA|           NULL|          6,49|       R$ / litro|\n",
      "|            BA|            ETANOL|           NULL|          4,49|       R$ / litro|\n",
      "|            BA|          GASOLINA|           NULL|          6,25|       R$ / litro|\n",
      "|            BA|GASOLINA ADITIVADA|           NULL|          6,25|       R$ / litro|\n",
      "|            BA|            ETANOL|           NULL|          4,25|       R$ / litro|\n",
      "|            BA|          GASOLINA|           NULL|          6,25|       R$ / litro|\n",
      "|            BA|            ETANOL|           NULL|          4,25|       R$ / litro|\n",
      "|            BA|          GASOLINA|           NULL|          6,25|       R$ / litro|\n",
      "|            BA|            ETANOL|           NULL|          4,25|       R$ / litro|\n",
      "|            BA|          GASOLINA|           NULL|          6,39|       R$ / litro|\n",
      "|            BA|GASOLINA ADITIVADA|           NULL|          6,59|       R$ / litro|\n",
      "|            BA|          GASOLINA|           NULL|          6,39|       R$ / litro|\n",
      "|            BA|GASOLINA ADITIVADA|           NULL|          6,69|       R$ / litro|\n",
      "|            BA|            ETANOL|           NULL|          4,99|       R$ / litro|\n",
      "|            BA|          GASOLINA|           NULL|          6,29|       R$ / litro|\n",
      "+--------------+------------------+---------------+--------------+-----------------+\n",
      "only showing top 50 rows\n",
      "\n"
     ]
    }
   ],
   "source": [
    "spark.sql(\"\"\"\n",
    " select `Estado - Sigla`, `Produto`, `Valor de Compra` , `Valor de Venda` , `Unidade de Medida` from combustiveis;\n",
    "\"\"\").show(50)"
   ]
  },
  {
   "cell_type": "code",
   "execution_count": 7,
   "id": "ec844354-f992-4cd2-a1b4-ea9506f59140",
   "metadata": {},
   "outputs": [
    {
     "name": "stdout",
     "output_type": "stream",
     "text": [
      "+--------------+-------+---------------+--------------+-----------------+\n",
      "|Estado - Sigla|Produto|Valor de Compra|Valor de Venda|Unidade de Medida|\n",
      "+--------------+-------+---------------+--------------+-----------------+\n",
      "+--------------+-------+---------------+--------------+-----------------+\n",
      "\n"
     ]
    }
   ],
   "source": [
    "spark.sql(\"\"\"\n",
    "    select `Estado - Sigla`, `Produto`, `Valor de Compra` , `Valor de Venda` , `Unidade de Medida` from combustiveis where `Valor de Compra` IS NOT NULL;\n",
    "\"\"\").show(5)"
   ]
  },
  {
   "cell_type": "code",
   "execution_count": 8,
   "id": "cbff6211-4026-4a86-b2fc-c5ffbc85eab5",
   "metadata": {},
   "outputs": [],
   "source": [
    "view_precos = spark.sql(\"\"\"\n",
    "    select \n",
    "        `Estado - Sigla`, \n",
    "        `Produto`, \n",
    "        regexp_replace(`Valor de Venda`, ',', '.') as `Valor de Venda`, \n",
    "        `Unidade de Medida` \n",
    "    from combustiveis;\n",
    "\"\"\")"
   ]
  },
  {
   "cell_type": "code",
   "execution_count": 9,
   "id": "cde27f92-23b6-4422-b48f-daec4075d926",
   "metadata": {},
   "outputs": [
    {
     "name": "stdout",
     "output_type": "stream",
     "text": [
      "+--------------+------------------+--------------+-----------------+\n",
      "|Estado - Sigla|           Produto|Valor de Venda|Unidade de Medida|\n",
      "+--------------+------------------+--------------+-----------------+\n",
      "|            SP|          GASOLINA|          5.42|       R$ / litro|\n",
      "|            SP|            ETANOL|          3.59|       R$ / litro|\n",
      "|            AL|          GASOLINA|          5.99|       R$ / litro|\n",
      "|            AP|          GASOLINA|          5.83|       R$ / litro|\n",
      "|            AP|          GASOLINA|          5.83|       R$ / litro|\n",
      "|            AP|          GASOLINA|          5.83|       R$ / litro|\n",
      "|            AP|          GASOLINA|          5.89|       R$ / litro|\n",
      "|            AP|GASOLINA ADITIVADA|          6.17|       R$ / litro|\n",
      "|            AP|          GASOLINA|          5.83|       R$ / litro|\n",
      "|            AP|          GASOLINA|          5.83|       R$ / litro|\n",
      "|            AP|            ETANOL|          5.11|       R$ / litro|\n",
      "|            AP|          GASOLINA|          5.99|       R$ / litro|\n",
      "|            BA|          GASOLINA|          6.59|       R$ / litro|\n",
      "|            BA|            ETANOL|          4.69|       R$ / litro|\n",
      "|            BA|          GASOLINA|          6.55|       R$ / litro|\n",
      "|            BA|GASOLINA ADITIVADA|          6.65|       R$ / litro|\n",
      "|            BA|            ETANOL|          4.65|       R$ / litro|\n",
      "|            BA|          GASOLINA|          6.38|       R$ / litro|\n",
      "|            BA|GASOLINA ADITIVADA|          6.46|       R$ / litro|\n",
      "|            BA|            ETANOL|          4.78|       R$ / litro|\n",
      "+--------------+------------------+--------------+-----------------+\n",
      "only showing top 20 rows\n",
      "\n"
     ]
    }
   ],
   "source": [
    "view_precos.show()"
   ]
  },
  {
   "cell_type": "code",
   "execution_count": 10,
   "id": "80d83d86-95a6-482a-bd4b-20e86ee60783",
   "metadata": {},
   "outputs": [],
   "source": [
    "view_precos.createOrReplaceTempView('view_precos')"
   ]
  },
  {
   "cell_type": "code",
   "execution_count": 11,
   "id": "87795efc-edde-4149-a771-7a238c7673ba",
   "metadata": {},
   "outputs": [],
   "source": [
    "df_diferenca_precos = spark.sql(\"\"\"\n",
    "    select \n",
    "        `Estado - Sigla`, \n",
    "        `Produto`, \n",
    "        `Unidade de Medida`,\n",
    "        MIN(`Valor de Venda`) as menor_valor,\n",
    "        MAX(`Valor de Venda`) as maior_valor,\n",
    "        MAX(`Valor de Venda`) - MIN(`Valor de Venda`) as diferenca\n",
    "    from view_precos\n",
    "    group by all\n",
    "    order by diferenca DESC;\n",
    "\"\"\")\n"
   ]
  },
  {
   "cell_type": "code",
   "execution_count": 12,
   "id": "ad82bdf6-fc58-4628-bd0b-ce75816b449c",
   "metadata": {},
   "outputs": [
    {
     "name": "stdout",
     "output_type": "stream",
     "text": [
      "+--------------+------------------+-----------------+-----------+-----------+------------------+\n",
      "|Estado - Sigla|           Produto|Unidade de Medida|menor_valor|maior_valor|         diferenca|\n",
      "+--------------+------------------+-----------------+-----------+-----------+------------------+\n",
      "|            SP|GASOLINA ADITIVADA|       R$ / litro|       5.27|       8.89| 3.620000000000001|\n",
      "|            SP|            ETANOL|       R$ / litro|       3.19|       6.59|               3.4|\n",
      "|            MG|GASOLINA ADITIVADA|       R$ / litro|       5.67|       8.88| 3.210000000000001|\n",
      "|            SP|          GASOLINA|       R$ / litro|       4.94|       7.99|              3.05|\n",
      "|            RJ|          GASOLINA|       R$ / litro|       5.05|       7.79|              2.74|\n",
      "|            AL|            ETANOL|       R$ / litro|       3.99|       6.49|               2.5|\n",
      "|            RJ|GASOLINA ADITIVADA|       R$ / litro|       5.49|       7.99|               2.5|\n",
      "|            SC|            ETANOL|       R$ / litro|       3.84|       6.16|2.3200000000000003|\n",
      "|            PE|            ETANOL|       R$ / litro|       3.69|       5.99|2.3000000000000003|\n",
      "|            RN|            ETANOL|       R$ / litro|       3.56|       5.69|2.1300000000000003|\n",
      "|            RS|GASOLINA ADITIVADA|       R$ / litro|       5.67|       7.58|1.9100000000000001|\n",
      "|            PE|          GASOLINA|       R$ / litro|       5.48|       7.39|1.9099999999999993|\n",
      "|            RS|            ETANOL|       R$ / litro|       4.15|       5.99|1.8399999999999999|\n",
      "|            MA|GASOLINA ADITIVADA|       R$ / litro|       5.54|       7.37|              1.83|\n",
      "|            RS|          GASOLINA|       R$ / litro|       5.54|       7.33|              1.79|\n",
      "|            MA|          GASOLINA|       R$ / litro|       5.25|       6.93|1.6799999999999997|\n",
      "|            PA|          GASOLINA|       R$ / litro|       5.65|       7.29|1.6399999999999997|\n",
      "|            MG|          GASOLINA|       R$ / litro|       5.15|       6.79|1.6399999999999997|\n",
      "|            MS|GASOLINA ADITIVADA|       R$ / litro|       5.59|       7.18|1.5899999999999999|\n",
      "|            CE|            ETANOL|       R$ / litro|       4.09|       5.66|1.5700000000000003|\n",
      "+--------------+------------------+-----------------+-----------+-----------+------------------+\n",
      "only showing top 20 rows\n",
      "\n"
     ]
    }
   ],
   "source": [
    "df_diferenca_precos.show()"
   ]
  },
  {
   "cell_type": "code",
   "execution_count": null,
   "id": "89972ab5-46b9-4e8a-898d-2c5e33929ebc",
   "metadata": {},
   "outputs": [],
   "source": []
  },
  {
   "cell_type": "code",
   "execution_count": null,
   "id": "98388fef-7816-4857-b910-63e0dff46341",
   "metadata": {},
   "outputs": [],
   "source": []
  },
  {
   "cell_type": "code",
   "execution_count": null,
   "id": "66e19dc0-4e0f-4908-99c2-d89b10bee8ba",
   "metadata": {},
   "outputs": [],
   "source": []
  }
 ],
 "metadata": {
  "kernelspec": {
   "display_name": "Python 3 (ipykernel)",
   "language": "python",
   "name": "python3"
  },
  "language_info": {
   "codemirror_mode": {
    "name": "ipython",
    "version": 3
   },
   "file_extension": ".py",
   "mimetype": "text/x-python",
   "name": "python",
   "nbconvert_exporter": "python",
   "pygments_lexer": "ipython3",
   "version": "3.10.12"
  }
 },
 "nbformat": 4,
 "nbformat_minor": 5
}
