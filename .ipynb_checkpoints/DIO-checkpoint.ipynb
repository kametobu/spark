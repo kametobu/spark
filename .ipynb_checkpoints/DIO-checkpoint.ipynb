{
 "cells": [
  {
   "cell_type": "code",
   "execution_count": 1,
   "id": "f29d18d4-0597-401b-a8f4-fdf87f173765",
   "metadata": {},
   "outputs": [],
   "source": [
    "from pyspark.sql import SparkSession\n",
    "from pyspark.sql import functions as F\n"
   ]
  },
  {
   "cell_type": "code",
   "execution_count": 2,
   "id": "28bd7814-9a8f-4522-9629-f740257ed5e7",
   "metadata": {},
   "outputs": [
    {
     "name": "stderr",
     "output_type": "stream",
     "text": [
      "25/03/07 13:11:37 WARN Utils: Your hostname, SMSSIC10194 resolves to a loopback address: 127.0.1.1; using 172.31.29.9 instead (on interface eth0)\n",
      "25/03/07 13:11:37 WARN Utils: Set SPARK_LOCAL_IP if you need to bind to another address\n",
      "Setting default log level to \"WARN\".\n",
      "To adjust logging level use sc.setLogLevel(newLevel). For SparkR, use setLogLevel(newLevel).\n",
      "25/03/07 13:11:38 WARN NativeCodeLoader: Unable to load native-hadoop library for your platform... using builtin-java classes where applicable\n"
     ]
    },
    {
     "data": {
      "text/html": [
       "\n",
       "            <div>\n",
       "                <p><b>SparkSession - in-memory</b></p>\n",
       "                \n",
       "        <div>\n",
       "            <p><b>SparkContext</b></p>\n",
       "\n",
       "            <p><a href=\"http://172.31.29.9:4040\">Spark UI</a></p>\n",
       "\n",
       "            <dl>\n",
       "              <dt>Version</dt>\n",
       "                <dd><code>v3.5.5</code></dd>\n",
       "              <dt>Master</dt>\n",
       "                <dd><code>local[*]</code></dd>\n",
       "              <dt>AppName</dt>\n",
       "                <dd><code>APP</code></dd>\n",
       "            </dl>\n",
       "        </div>\n",
       "        \n",
       "            </div>\n",
       "        "
      ],
      "text/plain": [
       "<pyspark.sql.session.SparkSession at 0x7f8c7644b730>"
      ]
     },
     "execution_count": 2,
     "metadata": {},
     "output_type": "execute_result"
    }
   ],
   "source": [
    "spark = SparkSession.builder.master('local[*]').appName(\"APP\").getOrCreate()\n",
    "spark"
   ]
  },
  {
   "cell_type": "code",
   "execution_count": 3,
   "id": "2021051d-6f70-41f6-8a4c-6861392e0ffb",
   "metadata": {},
   "outputs": [],
   "source": [
    "data = [\n",
    "    (1, \"Alice\", 25, \"F\", 5, 12), (2, \"Bob\", 34, \"M\", 7, 8), (3, \"Carlos\", 28, \"M\", 6, 1), \n",
    "    (4, \"Daniela\", 22, \"F\", 8, 4), (5, \"Eva\", 30, \"F\", 4, 2), (6, \"Felipe\", 27, \"M\", 5, 10), \n",
    "    (7, \"Gabriela\", 33, \"F\", 9, 13), (8, \"Lucas\", 40, \"M\", 7, 6), (9, \"Mariana\", 29, \"F\", 6, 9), \n",
    "    (10, \"Thiago\", 26, \"M\", 7, 3), (11, \"Isabela\", 32, \"F\", 6, 19), (12, \"João\", 31, \"M\", 5, 14), \n",
    "    (13, \"Fernanda\", 24, \"F\", 6, 17), (14, \"Rafael\", 35, \"M\", 7, 18), (15, \"Paula\", 38, \"F\", 5, 5), \n",
    "    (16, \"Diego\", 23, \"M\", 8, 20), (17, \"Clara\", 27, \"F\", 6, 7), (18, \"Vinícius\", 32, \"M\", 4, 15), \n",
    "    (19, \"Beatriz\", 21, \"F\", 9, 11), (20, \"Rodrigo\", 33, \"M\", 6, 16), (21, \"Carla\", 26, \"F\", 7, 14), \n",
    "    (22, \"Marcelo\", 30, \"M\", 5, 9), (23, \"Juliana\", 28, \"F\", 7, 13), (24, \"Gustavo\", 29, \"M\", 8, 2), \n",
    "    (25, \"Renata\", 22, \"F\", 5, 6), (26, \"Eduardo\", 31, \"M\", 6, 4), (27, \"Larissa\", 27, \"F\", 7, 8), \n",
    "    (28, \"Bruno\", 24, \"M\", 8, 20), (29, \"Tatiane\", 35, \"F\", 6, 12), (30, \"Marcos\", 26, \"M\", 7, 11), \n",
    "    (31, \"Jéssica\", 28, \"F\", 7, 1), (32, \"André\", 30, \"M\", 6, 15), (33, \"Simone\", 32, \"F\", 5, 18), \n",
    "    (34, \"Fernando\", 29, \"M\", 6, 17), (35, \"Luana\", 27, \"F\", 8, 3), (36, \"Leandro\", 28, \"M\", 6, 9), \n",
    "    (37, \"Patrícia\", 27, \"F\", 5, 7), (38, \"Carlos\", 34, \"M\", 7, 6), (39, \"Larissa\", 36, \"F\", 6, 14), \n",
    "    (40, \"Ricardo\", 25, \"M\", 9, 10), (41, \"Aline\", 29, \"F\", 7, 16), (42, \"Marcos\", 31, \"M\", 5, 8), \n",
    "    (43, \"Helena\", 34, \"F\", 6, 2), (44, \"Tiago\", 39, \"M\", 8, 5), (45, \"Fernanda\", 30, \"F\", 5, 13), \n",
    "    (46, \"Felipe\", 33, \"M\", 6, 1), (47, \"Juliana\", 32, \"F\", 9, 4), (48, \"Márcio\", 27, \"M\", 7, 19), \n",
    "    (49, \"Bruna\", 25, \"F\", 8, 10), (50, \"André\", 34, \"M\", 5, 20)\n",
    "]\n",
    "\n",
    "cargos = [\n",
    "    (1, \"Desenvolvedor\", 5000),\n",
    "    (2, \"Designer\", 4000),\n",
    "    (3, \"Gerente de Projetos\", 8000),\n",
    "    (4, \"Analista de Sistemas\", 6000),\n",
    "    (5, \"Arquiteto de Software\", 10000),\n",
    "    (6, \"Tester\", 4500),\n",
    "    (7, \"Gerente de TI\", 9000),\n",
    "    (8, \"Consultor de TI\", 7500),\n",
    "    (9, \"Analista de Dados\", 5500),\n",
    "    (10, \"Administrador de Redes\", 6000),\n",
    "    (11, \"Suporte Técnico\", 3000),\n",
    "    (12, \"Especialista em Segurança\", 8500),\n",
    "    (13, \"Diretor de Tecnologia\", 15000),\n",
    "    (14, \"Coordenador de TI\", 7000),\n",
    "    (15, \"Product Owner\", 9500),\n",
    "    (16, \"Scrum Master\", 8000),\n",
    "    (17, \"UX/UI Designer\", 4500),\n",
    "    (18, \"Engenheiro de Dados\", 9500),\n",
    "    (19, \"Analista de Marketing Digital\", 5000),\n",
    "    (20, \"Assistente Administrativo\", 2500)\n",
    "]"
   ]
  },
  {
   "cell_type": "code",
   "execution_count": 4,
   "id": "05ba04af-2a58-4b82-9dfa-e42259c661c8",
   "metadata": {},
   "outputs": [
    {
     "name": "stderr",
     "output_type": "stream",
     "text": [
      "                                                                                "
     ]
    },
    {
     "name": "stdout",
     "output_type": "stream",
     "text": [
      "+---------+--------+---+------+----------+------+\n",
      "|person_id|name    |age|gender|empresa_id|job_id|\n",
      "+---------+--------+---+------+----------+------+\n",
      "|1        |Alice   |25 |F     |5         |12    |\n",
      "|2        |Bob     |34 |M     |7         |8     |\n",
      "|3        |Carlos  |28 |M     |6         |1     |\n",
      "|4        |Daniela |22 |F     |8         |4     |\n",
      "|5        |Eva     |30 |F     |4         |2     |\n",
      "|6        |Felipe  |27 |M     |5         |10    |\n",
      "|7        |Gabriela|33 |F     |9         |13    |\n",
      "|8        |Lucas   |40 |M     |7         |6     |\n",
      "|9        |Mariana |29 |F     |6         |9     |\n",
      "|10       |Thiago  |26 |M     |7         |3     |\n",
      "|11       |Isabela |32 |F     |6         |19    |\n",
      "|12       |João    |31 |M     |5         |14    |\n",
      "|13       |Fernanda|24 |F     |6         |17    |\n",
      "|14       |Rafael  |35 |M     |7         |18    |\n",
      "|15       |Paula   |38 |F     |5         |5     |\n",
      "|16       |Diego   |23 |M     |8         |20    |\n",
      "|17       |Clara   |27 |F     |6         |7     |\n",
      "|18       |Vinícius|32 |M     |4         |15    |\n",
      "|19       |Beatriz |21 |F     |9         |11    |\n",
      "|20       |Rodrigo |33 |M     |6         |16    |\n",
      "+---------+--------+---+------+----------+------+\n",
      "only showing top 20 rows\n",
      "\n",
      "+------+-----------------------------+------+\n",
      "|job_id|job_title                    |salary|\n",
      "+------+-----------------------------+------+\n",
      "|1     |Desenvolvedor                |5000  |\n",
      "|2     |Designer                     |4000  |\n",
      "|3     |Gerente de Projetos          |8000  |\n",
      "|4     |Analista de Sistemas         |6000  |\n",
      "|5     |Arquiteto de Software        |10000 |\n",
      "|6     |Tester                       |4500  |\n",
      "|7     |Gerente de TI                |9000  |\n",
      "|8     |Consultor de TI              |7500  |\n",
      "|9     |Analista de Dados            |5500  |\n",
      "|10    |Administrador de Redes       |6000  |\n",
      "|11    |Suporte Técnico              |3000  |\n",
      "|12    |Especialista em Segurança    |8500  |\n",
      "|13    |Diretor de Tecnologia        |15000 |\n",
      "|14    |Coordenador de TI            |7000  |\n",
      "|15    |Product Owner                |9500  |\n",
      "|16    |Scrum Master                 |8000  |\n",
      "|17    |UX/UI Designer               |4500  |\n",
      "|18    |Engenheiro de Dados          |9500  |\n",
      "|19    |Analista de Marketing Digital|5000  |\n",
      "|20    |Assistente Administrativo    |2500  |\n",
      "+------+-----------------------------+------+\n",
      "\n"
     ]
    }
   ],
   "source": [
    "people_df = spark.createDataFrame(data, [\"person_id\", \"name\", \"age\", \"gender\", \"empresa_id\",\"job_id\"])\n",
    "jobs_df = spark.createDataFrame(cargos, [\"job_id\", \"job_title\", \"salary\"])\n",
    "\n",
    "people_df.show(truncate=False)\n",
    "jobs_df.show(truncate=False)"
   ]
  },
  {
   "cell_type": "code",
   "execution_count": 5,
   "id": "f8e9b1b3-f5c4-4929-b24e-7dc91787348f",
   "metadata": {},
   "outputs": [
    {
     "name": "stdout",
     "output_type": "stream",
     "text": [
      "+-------+---+\n",
      "|   name|age|\n",
      "+-------+---+\n",
      "|  Alice| 25|\n",
      "|    Bob| 34|\n",
      "| Carlos| 28|\n",
      "|Daniela| 22|\n",
      "|    Eva| 30|\n",
      "+-------+---+\n",
      "only showing top 5 rows\n",
      "\n"
     ]
    }
   ],
   "source": [
    "people_df.select(\"name\", \"age\").show(5)"
   ]
  },
  {
   "cell_type": "code",
   "execution_count": 6,
   "id": "2c447682-5a2a-4a82-9695-89b4cbe69c99",
   "metadata": {},
   "outputs": [
    {
     "name": "stdout",
     "output_type": "stream",
     "text": [
      "+---------+--------+---+------+----------+------+\n",
      "|person_id|    name|age|gender|empresa_id|job_id|\n",
      "+---------+--------+---+------+----------+------+\n",
      "|        2|     Bob| 34|     M|         7|     8|\n",
      "|        7|Gabriela| 33|     F|         9|    13|\n",
      "|        8|   Lucas| 40|     M|         7|     6|\n",
      "|       11| Isabela| 32|     F|         6|    19|\n",
      "|       12|    João| 31|     M|         5|    14|\n",
      "|       14|  Rafael| 35|     M|         7|    18|\n",
      "|       15|   Paula| 38|     F|         5|     5|\n",
      "|       18|Vinícius| 32|     M|         4|    15|\n",
      "|       20| Rodrigo| 33|     M|         6|    16|\n",
      "|       26| Eduardo| 31|     M|         6|     4|\n",
      "|       29| Tatiane| 35|     F|         6|    12|\n",
      "|       33|  Simone| 32|     F|         5|    18|\n",
      "|       38|  Carlos| 34|     M|         7|     6|\n",
      "|       39| Larissa| 36|     F|         6|    14|\n",
      "|       42|  Marcos| 31|     M|         5|     8|\n",
      "|       43|  Helena| 34|     F|         6|     2|\n",
      "|       44|   Tiago| 39|     M|         8|     5|\n",
      "|       46|  Felipe| 33|     M|         6|     1|\n",
      "|       47| Juliana| 32|     F|         9|     4|\n",
      "|       50|   André| 34|     M|         5|    20|\n",
      "+---------+--------+---+------+----------+------+\n",
      "\n"
     ]
    }
   ],
   "source": [
    "people_df.filter(F.col(\"age\")> 30).show()"
   ]
  },
  {
   "cell_type": "code",
   "execution_count": 7,
   "id": "a8e3df19-9754-49da-a4e0-9b1be84a61a7",
   "metadata": {},
   "outputs": [
    {
     "name": "stdout",
     "output_type": "stream",
     "text": [
      "+------+-----+\n",
      "|gender|count|\n",
      "+------+-----+\n",
      "|     F|   25|\n",
      "|     M|   25|\n",
      "+------+-----+\n",
      "\n"
     ]
    }
   ],
   "source": [
    "people_df.groupby(F.col(\"gender\")).count().show()"
   ]
  },
  {
   "cell_type": "code",
   "execution_count": 8,
   "id": "97fd842d-9bd3-4b11-95bd-a74c4f29d81d",
   "metadata": {},
   "outputs": [
    {
     "name": "stdout",
     "output_type": "stream",
     "text": [
      "+---------+--------+---+------+----------+------+\n",
      "|person_id|    name|age|gender|empresa_id|job_id|\n",
      "+---------+--------+---+------+----------+------+\n",
      "|        8|   Lucas| 40|     M|         7|     6|\n",
      "|       44|   Tiago| 39|     M|         8|     5|\n",
      "|       15|   Paula| 38|     F|         5|     5|\n",
      "|       39| Larissa| 36|     F|         6|    14|\n",
      "|       29| Tatiane| 35|     F|         6|    12|\n",
      "|       14|  Rafael| 35|     M|         7|    18|\n",
      "|       50|   André| 34|     M|         5|    20|\n",
      "|       38|  Carlos| 34|     M|         7|     6|\n",
      "|        2|     Bob| 34|     M|         7|     8|\n",
      "|       43|  Helena| 34|     F|         6|     2|\n",
      "|       46|  Felipe| 33|     M|         6|     1|\n",
      "|        7|Gabriela| 33|     F|         9|    13|\n",
      "|       20| Rodrigo| 33|     M|         6|    16|\n",
      "|       47| Juliana| 32|     F|         9|     4|\n",
      "|       11| Isabela| 32|     F|         6|    19|\n",
      "|       33|  Simone| 32|     F|         5|    18|\n",
      "|       18|Vinícius| 32|     M|         4|    15|\n",
      "|       26| Eduardo| 31|     M|         6|     4|\n",
      "|       12|    João| 31|     M|         5|    14|\n",
      "|       42|  Marcos| 31|     M|         5|     8|\n",
      "+---------+--------+---+------+----------+------+\n",
      "only showing top 20 rows\n",
      "\n"
     ]
    }
   ],
   "source": [
    "people_df.orderBy(\"age\", ascending=False).show()"
   ]
  },
  {
   "attachments": {
    "187ea92c-2f1c-434d-a6aa-8b7d32dcea2c.png": {
     "image/png": "[encoded data removed]"
    }
   },
   "cell_type": "markdown",
   "id": "75f024d8-457b-41b1-9937-fe479f5d1965",
   "metadata": {},
   "source": [
    "![image.png](attachment:187ea92c-2f1c-434d-a6aa-8b7d32dcea2c.png)"
   ]
  },
  {
   "cell_type": "code",
   "execution_count": 9,
   "id": "5d4df97e-b354-47f2-8e4c-36e0181ea8e6",
   "metadata": {},
   "outputs": [
    {
     "name": "stdout",
     "output_type": "stream",
     "text": [
      "+---------+--------+---+------+----------+------+------+---------------------+------+\n",
      "|person_id|name    |age|gender|empresa_id|job_id|job_id|job_title            |salary|\n",
      "+---------+--------+---+------+----------+------+------+---------------------+------+\n",
      "|3        |Carlos  |28 |M     |6         |1     |1     |Desenvolvedor        |5000  |\n",
      "|31       |Jéssica |28 |F     |7         |1     |1     |Desenvolvedor        |5000  |\n",
      "|46       |Felipe  |33 |M     |6         |1     |1     |Desenvolvedor        |5000  |\n",
      "|5        |Eva     |30 |F     |4         |2     |2     |Designer             |4000  |\n",
      "|24       |Gustavo |29 |M     |8         |2     |2     |Designer             |4000  |\n",
      "|43       |Helena  |34 |F     |6         |2     |2     |Designer             |4000  |\n",
      "|10       |Thiago  |26 |M     |7         |3     |3     |Gerente de Projetos  |8000  |\n",
      "|35       |Luana   |27 |F     |8         |3     |3     |Gerente de Projetos  |8000  |\n",
      "|4        |Daniela |22 |F     |8         |4     |4     |Analista de Sistemas |6000  |\n",
      "|26       |Eduardo |31 |M     |6         |4     |4     |Analista de Sistemas |6000  |\n",
      "|47       |Juliana |32 |F     |9         |4     |4     |Analista de Sistemas |6000  |\n",
      "|15       |Paula   |38 |F     |5         |5     |5     |Arquiteto de Software|10000 |\n",
      "|44       |Tiago   |39 |M     |8         |5     |5     |Arquiteto de Software|10000 |\n",
      "|8        |Lucas   |40 |M     |7         |6     |6     |Tester               |4500  |\n",
      "|25       |Renata  |22 |F     |5         |6     |6     |Tester               |4500  |\n",
      "|38       |Carlos  |34 |M     |7         |6     |6     |Tester               |4500  |\n",
      "|17       |Clara   |27 |F     |6         |7     |7     |Gerente de TI        |9000  |\n",
      "|37       |Patrícia|27 |F     |5         |7     |7     |Gerente de TI        |9000  |\n",
      "|2        |Bob     |34 |M     |7         |8     |8     |Consultor de TI      |7500  |\n",
      "|27       |Larissa |27 |F     |7         |8     |8     |Consultor de TI      |7500  |\n",
      "+---------+--------+---+------+----------+------+------+---------------------+------+\n",
      "only showing top 20 rows\n",
      "\n"
     ]
    }
   ],
   "source": [
    "# people_df.join(jobs_df, ['job_id'], 'inner').show(truncate=False)\n",
    "people_df.alias('dfp').join(jobs_df.alias('dfj'), F.col('dfp.job_id') == F.col('dfj.job_id'), 'inner').show(truncate=False)"
   ]
  },
  {
   "cell_type": "code",
   "execution_count": 10,
   "id": "57c6a31b-ad30-40cc-96ff-8606cff1e336",
   "metadata": {},
   "outputs": [
    {
     "name": "stdout",
     "output_type": "stream",
     "text": [
      "+---------+--------+---+------+----------+------+-----------+\n",
      "|person_id|    name|age|gender|empresa_id|job_id|age_plus_10|\n",
      "+---------+--------+---+------+----------+------+-----------+\n",
      "|        1|   Alice| 25|     F|         5|    12|         35|\n",
      "|        2|     Bob| 34|     M|         7|     8|         44|\n",
      "|        3|  Carlos| 28|     M|         6|     1|         38|\n",
      "|        4| Daniela| 22|     F|         8|     4|         32|\n",
      "|        5|     Eva| 30|     F|         4|     2|         40|\n",
      "|        6|  Felipe| 27|     M|         5|    10|         37|\n",
      "|        7|Gabriela| 33|     F|         9|    13|         43|\n",
      "|        8|   Lucas| 40|     M|         7|     6|         50|\n",
      "|        9| Mariana| 29|     F|         6|     9|         39|\n",
      "|       10|  Thiago| 26|     M|         7|     3|         36|\n",
      "|       11| Isabela| 32|     F|         6|    19|         42|\n",
      "|       12|    João| 31|     M|         5|    14|         41|\n",
      "|       13|Fernanda| 24|     F|         6|    17|         34|\n",
      "|       14|  Rafael| 35|     M|         7|    18|         45|\n",
      "|       15|   Paula| 38|     F|         5|     5|         48|\n",
      "|       16|   Diego| 23|     M|         8|    20|         33|\n",
      "|       17|   Clara| 27|     F|         6|     7|         37|\n",
      "|       18|Vinícius| 32|     M|         4|    15|         42|\n",
      "|       19| Beatriz| 21|     F|         9|    11|         31|\n",
      "|       20| Rodrigo| 33|     M|         6|    16|         43|\n",
      "+---------+--------+---+------+----------+------+-----------+\n",
      "only showing top 20 rows\n",
      "\n"
     ]
    }
   ],
   "source": [
    "people_df = people_df.withColumn(\"age_plus_10\", F.col(\"age\") + 10)\n",
    "people_df.show()"
   ]
  },
  {
   "cell_type": "code",
   "execution_count": 24,
   "id": "70aa108e-557e-46c7-9499-a93a9cbd862c",
   "metadata": {},
   "outputs": [
    {
     "name": "stdout",
     "output_type": "stream",
     "text": [
      "+------+--------------------+------+----------+\n",
      "|job_id|           job_title|salary|aumento_10|\n",
      "+------+--------------------+------+----------+\n",
      "|     1|       Desenvolvedor|  5000|    5500.0|\n",
      "|     2|            Designer|  4000|    4400.0|\n",
      "|     3| Gerente de Projetos|  8000|    8800.0|\n",
      "|     4|Analista de Sistemas|  6000|    6600.0|\n",
      "|     5|Arquiteto de Soft...| 10000|   11000.0|\n",
      "|     6|              Tester|  4500|    4950.0|\n",
      "|     7|       Gerente de TI|  9000|    9900.0|\n",
      "|     8|     Consultor de TI|  7500|    8250.0|\n",
      "|     9|   Analista de Dados|  5500|    6050.0|\n",
      "|    10|Administrador de ...|  6000|    6600.0|\n",
      "|    11|     Suporte Técnico|  3000|    3300.0|\n",
      "|    12|Especialista em S...|  8500|    9350.0|\n",
      "|    13|Diretor de Tecnol...| 15000|   16500.0|\n",
      "|    14|   Coordenador de TI|  7000|    7700.0|\n",
      "|    15|       Product Owner|  9500|   10450.0|\n",
      "|    16|        Scrum Master|  8000|    8800.0|\n",
      "|    17|      UX/UI Designer|  4500|    4950.0|\n",
      "|    18| Engenheiro de Dados|  9500|   10450.0|\n",
      "|    19|Analista de Marke...|  5000|    5500.0|\n",
      "|    20|Assistente Admini...|  2500|    2750.0|\n",
      "+------+--------------------+------+----------+\n",
      "\n"
     ]
    }
   ],
   "source": [
    "jobs_df.withColumn(\"aumento_10\", F.col(\"salary\") + (F.col(\"salary\") * 0.1)).show()"
   ]
  },
  {
   "cell_type": "code",
   "execution_count": 26,
   "id": "43835b32-bdda-49f2-88a0-730318ae6c1a",
   "metadata": {},
   "outputs": [
    {
     "name": "stdout",
     "output_type": "stream",
     "text": [
      "+---------+--------+---+------+----------+------+-------+\n",
      "|person_id|    name|age|gender|empresa_id|job_id|new_age|\n",
      "+---------+--------+---+------+----------+------+-------+\n",
      "|        1|   Alice| 25|     F|         5|    12|     35|\n",
      "|        2|     Bob| 34|     M|         7|     8|     44|\n",
      "|        3|  Carlos| 28|     M|         6|     1|     38|\n",
      "|        4| Daniela| 22|     F|         8|     4|     32|\n",
      "|        5|     Eva| 30|     F|         4|     2|     40|\n",
      "|        6|  Felipe| 27|     M|         5|    10|     37|\n",
      "|        7|Gabriela| 33|     F|         9|    13|     43|\n",
      "|        8|   Lucas| 40|     M|         7|     6|     50|\n",
      "|        9| Mariana| 29|     F|         6|     9|     39|\n",
      "|       10|  Thiago| 26|     M|         7|     3|     36|\n",
      "|       11| Isabela| 32|     F|         6|    19|     42|\n",
      "|       12|    João| 31|     M|         5|    14|     41|\n",
      "|       13|Fernanda| 24|     F|         6|    17|     34|\n",
      "|       14|  Rafael| 35|     M|         7|    18|     45|\n",
      "|       15|   Paula| 38|     F|         5|     5|     48|\n",
      "|       16|   Diego| 23|     M|         8|    20|     33|\n",
      "|       17|   Clara| 27|     F|         6|     7|     37|\n",
      "|       18|Vinícius| 32|     M|         4|    15|     42|\n",
      "|       19| Beatriz| 21|     F|         9|    11|     31|\n",
      "|       20| Rodrigo| 33|     M|         6|    16|     43|\n",
      "+---------+--------+---+------+----------+------+-------+\n",
      "only showing top 20 rows\n",
      "\n"
     ]
    }
   ],
   "source": [
    "people_df = people_df.withColumnRenamed(\"age_plus_10\", \"new_age\")\n",
    "people_df.show()"
   ]
  },
  {
   "cell_type": "code",
   "execution_count": 28,
   "id": "1837d47f-25a2-4a6c-bd3e-53a34bf36698",
   "metadata": {},
   "outputs": [
    {
     "name": "stdout",
     "output_type": "stream",
     "text": [
      "+--------+\n",
      "|avg(age)|\n",
      "+--------+\n",
      "|   29.56|\n",
      "+--------+\n",
      "\n"
     ]
    }
   ],
   "source": [
    "people_df.agg(F.avg(\"age\")).show()"
   ]
  },
  {
   "cell_type": "code",
   "execution_count": 30,
   "id": "6af8fb89-e8d0-4c23-8788-617d14edd5ff",
   "metadata": {},
   "outputs": [
    {
     "name": "stdout",
     "output_type": "stream",
     "text": [
      "+------+--------+\n",
      "|gender|avg(age)|\n",
      "+------+--------+\n",
      "|     F|   28.76|\n",
      "|     M|   30.36|\n",
      "+------+--------+\n",
      "\n"
     ]
    }
   ],
   "source": [
    "people_df.groupBy(\"gender\").agg(F.avg(\"age\")).show()"
   ]
  },
  {
   "cell_type": "code",
   "execution_count": 39,
   "id": "bc750ab2-a901-4d62-880a-467dcd457572",
   "metadata": {},
   "outputs": [
    {
     "name": "stdout",
     "output_type": "stream",
     "text": [
      "+--------+\n",
      "|    name|\n",
      "+--------+\n",
      "|   ALICE|\n",
      "|     BOB|\n",
      "|  CARLOS|\n",
      "| DANIELA|\n",
      "|     EVA|\n",
      "|  FELIPE|\n",
      "|GABRIELA|\n",
      "|   LUCAS|\n",
      "| MARIANA|\n",
      "|  THIAGO|\n",
      "| ISABELA|\n",
      "|    JOÃO|\n",
      "|FERNANDA|\n",
      "|  RAFAEL|\n",
      "|   PAULA|\n",
      "|   DIEGO|\n",
      "|   CLARA|\n",
      "|VINÍCIUS|\n",
      "| BEATRIZ|\n",
      "| RODRIGO|\n",
      "+--------+\n",
      "only showing top 20 rows\n",
      "\n",
      "+---------+--------+---+------+----------+------+-------+\n",
      "|person_id|    name|age|gender|empresa_id|job_id|new_age|\n",
      "+---------+--------+---+------+----------+------+-------+\n",
      "|        1|   ALICE| 25|     F|         5|    12|     35|\n",
      "|        2|     BOB| 34|     M|         7|     8|     44|\n",
      "|        3|  CARLOS| 28|     M|         6|     1|     38|\n",
      "|        4| DANIELA| 22|     F|         8|     4|     32|\n",
      "|        5|     EVA| 30|     F|         4|     2|     40|\n",
      "|        6|  FELIPE| 27|     M|         5|    10|     37|\n",
      "|        7|GABRIELA| 33|     F|         9|    13|     43|\n",
      "|        8|   LUCAS| 40|     M|         7|     6|     50|\n",
      "|        9| MARIANA| 29|     F|         6|     9|     39|\n",
      "|       10|  THIAGO| 26|     M|         7|     3|     36|\n",
      "|       11| ISABELA| 32|     F|         6|    19|     42|\n",
      "|       12|    JOÃO| 31|     M|         5|    14|     41|\n",
      "|       13|FERNANDA| 24|     F|         6|    17|     34|\n",
      "|       14|  RAFAEL| 35|     M|         7|    18|     45|\n",
      "|       15|   PAULA| 38|     F|         5|     5|     48|\n",
      "|       16|   DIEGO| 23|     M|         8|    20|     33|\n",
      "|       17|   CLARA| 27|     F|         6|     7|     37|\n",
      "|       18|VINÍCIUS| 32|     M|         4|    15|     42|\n",
      "|       19| BEATRIZ| 21|     F|         9|    11|     31|\n",
      "|       20| RODRIGO| 33|     M|         6|    16|     43|\n",
      "+---------+--------+---+------+----------+------+-------+\n",
      "only showing top 20 rows\n",
      "\n"
     ]
    }
   ],
   "source": [
    "people_df.select(F.upper(\"name\").alias(\"name\")).show()\n",
    "people_df.withColumn(\"name\", F.upper(F.col(\"name\"))).show()"
   ]
  },
  {
   "cell_type": "code",
   "execution_count": null,
   "id": "24473b99-c22e-472b-bfc3-4f6836d3473f",
   "metadata": {},
   "outputs": [],
   "source": [
    "people_df.select()"
   ]
  },
  {
   "cell_type": "code",
   "execution_count": 41,
   "id": "022325d4-e8bb-4a2b-bf5a-dba0b445ca23",
   "metadata": {},
   "outputs": [],
   "source": [
    "people_df.createOrReplaceTempView(\"people\")\n",
    "jobs_df.createOrReplaceTempView(\"jobs\")"
   ]
  },
  {
   "cell_type": "code",
   "execution_count": 44,
   "id": "12d7d868-29fa-4dda-b1f4-9eb68242e7ca",
   "metadata": {},
   "outputs": [
    {
     "name": "stdout",
     "output_type": "stream",
     "text": [
      "+--------+-----------------------------+\n",
      "|name    |job_title                    |\n",
      "+--------+-----------------------------+\n",
      "|Felipe  |Desenvolvedor                |\n",
      "|Helena  |Designer                     |\n",
      "|Eduardo |Analista de Sistemas         |\n",
      "|Juliana |Analista de Sistemas         |\n",
      "|Paula   |Arquiteto de Software        |\n",
      "|Tiago   |Arquiteto de Software        |\n",
      "|Lucas   |Tester                       |\n",
      "|Carlos  |Tester                       |\n",
      "|Bob     |Consultor de TI              |\n",
      "|Marcos  |Consultor de TI              |\n",
      "|Tatiane |Especialista em Segurança    |\n",
      "|Gabriela|Diretor de Tecnologia        |\n",
      "|João    |Coordenador de TI            |\n",
      "|Larissa |Coordenador de TI            |\n",
      "|Vinícius|Product Owner                |\n",
      "|Rodrigo |Scrum Master                 |\n",
      "|Rafael  |Engenheiro de Dados          |\n",
      "|Simone  |Engenheiro de Dados          |\n",
      "|Isabela |Analista de Marketing Digital|\n",
      "|André   |Assistente Administrativo    |\n",
      "+--------+-----------------------------+\n",
      "\n"
     ]
    }
   ],
   "source": [
    "result_df = spark.sql(\"select p.name, j.job_title from people p join jobs j on p.job_id = j.job_id where p.age > 30\")\n",
    "result_df.show(truncate=False)"
   ]
  },
  {
   "cell_type": "code",
   "execution_count": 47,
   "id": "cdc14c82-c74c-48ee-bea3-505bee67cd2c",
   "metadata": {},
   "outputs": [
    {
     "name": "stdout",
     "output_type": "stream",
     "text": [
      "Collecting matplotlib\n",
      "  Downloading matplotlib-3.10.1-cp310-cp310-manylinux_2_17_x86_64.manylinux2014_x86_64.whl (8.6 MB)\n",
      "\u001b[2K     \u001b[90m━━━━━━━━━━━━━━━━━━━━━━━━━━━━━━━━━━━━━━━━\u001b[0m \u001b[32m8.6/8.6 MB\u001b[0m \u001b[31m37.3 MB/s\u001b[0m eta \u001b[36m0:00:00\u001b[0ma \u001b[36m0:00:01\u001b[0m\n",
      "Collecting kiwisolver>=1.3.1\n",
      "  Downloading kiwisolver-1.4.8-cp310-cp310-manylinux_2_12_x86_64.manylinux2010_x86_64.whl (1.6 MB)\n",
      "\u001b[2K     \u001b[90m━━━━━━━━━━━━━━━━━━━━━━━━━━━━━━━━━━━━━━━━\u001b[0m \u001b[32m1.6/1.6 MB\u001b[0m \u001b[31m65.9 MB/s\u001b[0m eta \u001b[36m0:00:00\u001b[0m\n",
      "Collecting contourpy>=1.0.1\n",
      "  Downloading contourpy-1.3.1-cp310-cp310-manylinux_2_17_x86_64.manylinux2014_x86_64.whl (324 kB)\n",
      "\u001b[2K     \u001b[90m━━━━━━━━━━━━━━━━━━━━━━━━━━━━━━━━━━━━━━\u001b[0m \u001b[32m325.0/325.0 KB\u001b[0m \u001b[31m64.2 MB/s\u001b[0m eta \u001b[36m0:00:00\u001b[0m\n",
      "Collecting pillow>=8\n",
      "  Downloading pillow-11.1.0-cp310-cp310-manylinux_2_28_x86_64.whl (4.5 MB)\n",
      "\u001b[2K     \u001b[90m━━━━━━━━━━━━━━━━━━━━━━━━━━━━━━━━━━━━━━━━\u001b[0m \u001b[32m4.5/4.5 MB\u001b[0m \u001b[31m75.7 MB/s\u001b[0m eta \u001b[36m0:00:00\u001b[0ma \u001b[36m0:00:01\u001b[0m\n",
      "\u001b[?25hRequirement already satisfied: packaging>=20.0 in /usr/local/lib/python3.10/dist-packages (from matplotlib) (24.2)\n",
      "Requirement already satisfied: python-dateutil>=2.7 in /usr/local/lib/python3.10/dist-packages (from matplotlib) (2.9.0.post0)\n",
      "Collecting cycler>=0.10\n",
      "  Downloading cycler-0.12.1-py3-none-any.whl (8.3 kB)\n",
      "Collecting numpy>=1.23\n",
      "  Downloading numpy-2.2.3-cp310-cp310-manylinux_2_17_x86_64.manylinux2014_x86_64.whl (16.4 MB)\n",
      "\u001b[2K     \u001b[90m━━━━━━━━━━━━━━━━━━━━━━━━━━━━━━━━━━━━━━━━\u001b[0m \u001b[32m16.4/16.4 MB\u001b[0m \u001b[31m55.2 MB/s\u001b[0m eta \u001b[36m0:00:00\u001b[0m00:01\u001b[0m00:01\u001b[0m\n",
      "Collecting fonttools>=4.22.0\n",
      "  Downloading fonttools-4.56.0-cp310-cp310-manylinux_2_17_x86_64.manylinux2014_x86_64.whl (4.6 MB)\n",
      "\u001b[2K     \u001b[90m━━━━━━━━━━━━━━━━━━━━━━━━━━━━━━━━━━━━━━━━\u001b[0m \u001b[32m4.6/4.6 MB\u001b[0m \u001b[31m70.1 MB/s\u001b[0m eta \u001b[36m0:00:00\u001b[0ma \u001b[36m0:00:01\u001b[0m\n",
      "\u001b[?25hRequirement already satisfied: pyparsing>=2.3.1 in /usr/lib/python3/dist-packages (from matplotlib) (2.4.7)\n",
      "Requirement already satisfied: six>=1.5 in /usr/lib/python3/dist-packages (from python-dateutil>=2.7->matplotlib) (1.16.0)\n",
      "Installing collected packages: pillow, numpy, kiwisolver, fonttools, cycler, contourpy, matplotlib\n",
      "Successfully installed contourpy-1.3.1 cycler-0.12.1 fonttools-4.56.0 kiwisolver-1.4.8 matplotlib-3.10.1 numpy-2.2.3 pillow-11.1.0\n",
      "\u001b[33mWARNING: Running pip as the 'root' user can result in broken permissions and conflicting behaviour with the system package manager. It is recommended to use a virtual environment instead: https://pip.pypa.io/warnings/venv\u001b[0m\u001b[33m\n",
      "\u001b[0m"
     ]
    },
    {
     "data": {
      "image/png": "[encoded data removed]",
      "text/plain": [
       "<Figure size 640x480 with 1 Axes>"
      ]
     },
     "metadata": {},
     "output_type": "display_data"
    }
   ],
   "source": [
    "# ! pip install matplotlib\n",
    "import matplotlib.pyplot as plt\n",
    "\n",
    "age_counts = people_df.groupBy(\"age\").count().orderBy(\"age\").collect()\n",
    "age = [row[\"age\"] for row in age_counts]\n",
    "counts = [row[\"count\"] for row in age_counts]\n",
    "\n",
    "plt.plot(age, counts)\n",
    "plt.xlabel(\"Idade\")\n",
    "plt.ylabel(\"Contagem\")\n",
    "plt.title(\"Distribuição de idades\")\n",
    "plt.show()"
   ]
  },
  {
   "cell_type": "code",
   "execution_count": null,
   "id": "481f2132-aea7-4d02-b06e-8781dc6aef95",
   "metadata": {},
   "outputs": [],
   "source": []
  },
  {
   "cell_type": "code",
   "execution_count": null,
   "id": "4f22fd4b-1aa2-4fd3-b251-cd158fc4390d",
   "metadata": {},
   "outputs": [],
   "source": []
  },
  {
   "cell_type": "code",
   "execution_count": null,
   "id": "2d445947-7375-4170-9811-af0977c86f7e",
   "metadata": {},
   "outputs": [],
   "source": []
  },
  {
   "cell_type": "code",
   "execution_count": null,
   "id": "c4bb0308-a292-4c9a-8905-802d74893fa4",
   "metadata": {},
   "outputs": [],
   "source": []
  }
 ],
 "metadata": {
  "kernelspec": {
   "display_name": "Python 3 (ipykernel)",
   "language": "python",
   "name": "python3"
  },
  "language_info": {
   "codemirror_mode": {
    "name": "ipython",
    "version": 3
   },
   "file_extension": ".py",
   "mimetype": "text/x-python",
   "name": "python",
   "nbconvert_exporter": "python",
   "pygments_lexer": "ipython3",
   "version": "3.10.12"
  }
 },
 "nbformat": 4,
 "nbformat_minor": 5
}
