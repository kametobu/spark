{
 "cells": [
  {
   "cell_type": "markdown",
   "id": "521b3ce0-e1d8-407a-9180-b862b38adf5c",
   "metadata": {},
   "source": [
    "# poetry - python"
   ]
  },
  {
   "cell_type": "code",
   "execution_count": 1,
   "id": "b874c89d-e9ef-4c3e-86e0-ec79e19209a9",
   "metadata": {},
   "outputs": [],
   "source": [
    "from pyspark.sql import functions as F\n",
    "from pyspark.sql import SparkSession"
   ]
  },
  {
   "cell_type": "code",
   "execution_count": 2,
   "id": "bb091752-7fd9-477b-8587-ad1eb2022a71",
   "metadata": {},
   "outputs": [
    {
     "name": "stderr",
     "output_type": "stream",
     "text": [
      "25/03/06 14:06:51 WARN Utils: Your hostname, SMSSIC10194 resolves to a loopback address: 127.0.1.1; using 172.31.29.9 instead (on interface eth0)\n",
      "25/03/06 14:06:51 WARN Utils: Set SPARK_LOCAL_IP if you need to bind to another address\n",
      "Setting default log level to \"WARN\".\n",
      "To adjust logging level use sc.setLogLevel(newLevel). For SparkR, use setLogLevel(newLevel).\n",
      "25/03/06 14:06:52 WARN NativeCodeLoader: Unable to load native-hadoop library for your platform... using builtin-java classes where applicable\n",
      "25/03/06 14:06:53 WARN Utils: Service 'SparkUI' could not bind on port 4040. Attempting port 4041.\n"
     ]
    }
   ],
   "source": [
    "spark = SparkSession.builder.master(\"local[*]\").appName('Etanol_Gasolina').getOrCreate()"
   ]
  },
  {
   "cell_type": "code",
   "execution_count": 3,
   "id": "db23fc2e-1d65-4489-b889-79bdb7cabb00",
   "metadata": {},
   "outputs": [],
   "source": [
    "df = (spark\n",
    "      .read\n",
    "      .option('delimiter', ';')\n",
    "      .option('header', 'true')\n",
    "      .option('inferSchema', 'true')\n",
    "      .option('enconding', 'ISO-8859-1')\n",
    "      .csv(\"./precos-gasolina-etanol-12.csv\")\n",
    ")"
   ]
  },
  {
   "cell_type": "code",
   "execution_count": 4,
   "id": "20f8f2e2-13e9-43cb-9cf1-299ef32d8c36",
   "metadata": {},
   "outputs": [
    {
     "name": "stdout",
     "output_type": "stream",
     "text": [
      "root\n",
      " |-- Regiao - Sigla: string (nullable = true)\n",
      " |-- Estado - Sigla: string (nullable = true)\n",
      " |-- Municipio: string (nullable = true)\n",
      " |-- Revenda: string (nullable = true)\n",
      " |-- CNPJ da Revenda: string (nullable = true)\n",
      " |-- Nome da Rua: string (nullable = true)\n",
      " |-- Numero Rua: string (nullable = true)\n",
      " |-- Complemento: string (nullable = true)\n",
      " |-- Bairro: string (nullable = true)\n",
      " |-- Cep: string (nullable = true)\n",
      " |-- Produto: string (nullable = true)\n",
      " |-- Data da Coleta: string (nullable = true)\n",
      " |-- Valor de Venda: string (nullable = true)\n",
      " |-- Valor de Compra: string (nullable = true)\n",
      " |-- Unidade de Medida: string (nullable = true)\n",
      " |-- Bandeira: string (nullable = true)\n",
      "\n"
     ]
    }
   ],
   "source": [
    "df.printSchema()"
   ]
  },
  {
   "cell_type": "code",
   "execution_count": 5,
   "id": "6b8a6c41-f4f9-469c-901a-939cefbbf9f1",
   "metadata": {},
   "outputs": [],
   "source": [
    "df_precos = (\n",
    "    df\n",
    "    .select('Estado - Sigla', 'Produto', 'Valor de Compra' ,'Valor de Venda', 'Unidade de Medida')\n",
    ")"
   ]
  },
  {
   "cell_type": "code",
   "execution_count": 6,
   "id": "e877dee1-f8e1-4bbe-bf7b-5993f76d07a3",
   "metadata": {},
   "outputs": [
    {
     "name": "stdout",
     "output_type": "stream",
     "text": [
      "+--------------+--------+---------------+--------------+-----------------+\n",
      "|Estado - Sigla| Produto|Valor de Compra|Valor de Venda|Unidade de Medida|\n",
      "+--------------+--------+---------------+--------------+-----------------+\n",
      "|            SP|GASOLINA|           NULL|          5,42|       R$ / litro|\n",
      "|            SP|  ETANOL|           NULL|          3,59|       R$ / litro|\n",
      "|            AL|GASOLINA|           NULL|          5,99|       R$ / litro|\n",
      "|            AP|GASOLINA|           NULL|          5,83|       R$ / litro|\n",
      "|            AP|GASOLINA|           NULL|          5,83|       R$ / litro|\n",
      "+--------------+--------+---------------+--------------+-----------------+\n",
      "only showing top 5 rows\n",
      "\n"
     ]
    }
   ],
   "source": [
    "df_precos.show(5)"
   ]
  },
  {
   "cell_type": "code",
   "execution_count": 7,
   "id": "2ffe41c8-f131-47c1-af8f-a6e2a3fd1556",
   "metadata": {},
   "outputs": [
    {
     "name": "stdout",
     "output_type": "stream",
     "text": [
      "+--------------+-------+---------------+--------------+-----------------+\n",
      "|Estado - Sigla|Produto|Valor de Compra|Valor de Venda|Unidade de Medida|\n",
      "+--------------+-------+---------------+--------------+-----------------+\n",
      "+--------------+-------+---------------+--------------+-----------------+\n",
      "\n"
     ]
    }
   ],
   "source": [
    "(\n",
    "    df_precos\n",
    "    .where(\n",
    "        F.col('Valor de Compra').isNotNull()\n",
    "    ).show()\n",
    ")"
   ]
  },
  {
   "cell_type": "code",
   "execution_count": 8,
   "id": "1bd75b05-8378-4ce9-aa2f-60ed906d68df",
   "metadata": {},
   "outputs": [],
   "source": [
    "df_precos = (\n",
    "    df\n",
    "    .select('Estado - Sigla', 'Produto','Valor de Venda', 'Unidade de Medida')\n",
    "    .withColumn(\n",
    "        'Valor de Venda', \n",
    "        F.regexp_replace(F.col('Valor de Venda'), ',', '.')\n",
    "        .cast('float')\n",
    "    )\n",
    ")"
   ]
  },
  {
   "cell_type": "code",
   "execution_count": 13,
   "id": "ce143fba-d565-4427-bc57-4494a3772998",
   "metadata": {},
   "outputs": [],
   "source": [
    "df_precos_analise = (\n",
    "    df_precos\n",
    "    .groupBy(\n",
    "        F.col('Estado - Sigla'), \n",
    "        F.col('Produto'), \n",
    "        F.col('Unidade de Medida')  \n",
    "    )\n",
    "    .agg(\n",
    "        F.min(F.col('Valor de Venda')).alias('menor_valor'),\n",
    "        F.max(F.col('Valor de Venda')).alias('maior_valor')\n",
    "    )\n",
    "    .withColumn(\n",
    "    \"diferenca\",\n",
    "        F.col('maior_valor') - F.col('menor_valor')\n",
    "    )\n",
    "    .orderBy('diferenca', ascending=False)\n",
    ")"
   ]
  },
  {
   "cell_type": "code",
   "execution_count": 14,
   "id": "0512f30a-3ada-4f10-908c-423923d03cb1",
   "metadata": {},
   "outputs": [
    {
     "name": "stdout",
     "output_type": "stream",
     "text": [
      "+--------------+------------------+-----------------+-----------+-----------+---------+\n",
      "|Estado - Sigla|           Produto|Unidade de Medida|menor_valor|maior_valor|diferenca|\n",
      "+--------------+------------------+-----------------+-----------+-----------+---------+\n",
      "|            SP|GASOLINA ADITIVADA|       R$ / litro|       5.27|       8.89|3.6200004|\n",
      "|            SP|            ETANOL|       R$ / litro|       3.19|       6.59|      3.4|\n",
      "|            MG|GASOLINA ADITIVADA|       R$ / litro|       5.67|       8.88|     3.21|\n",
      "|            SP|          GASOLINA|       R$ / litro|       4.94|       7.99|3.0499997|\n",
      "|            RJ|          GASOLINA|       R$ / litro|       5.05|       7.79|2.7399998|\n",
      "|            RJ|GASOLINA ADITIVADA|       R$ / litro|       5.49|       7.99|      2.5|\n",
      "|            AL|            ETANOL|       R$ / litro|       3.99|       6.49|2.4999998|\n",
      "|            SC|            ETANOL|       R$ / litro|       3.84|       6.16|     2.32|\n",
      "|            PE|            ETANOL|       R$ / litro|       3.69|       5.99|2.2999997|\n",
      "|            RN|            ETANOL|       R$ / litro|       3.56|       5.69|     2.13|\n",
      "|            PE|          GASOLINA|       R$ / litro|       5.48|       7.39|1.9099998|\n",
      "|            RS|GASOLINA ADITIVADA|       R$ / litro|       5.67|       7.58|1.9099998|\n",
      "|            RS|            ETANOL|       R$ / litro|       4.15|       5.99|1.8399997|\n",
      "|            MA|GASOLINA ADITIVADA|       R$ / litro|       5.54|       7.37|1.8299999|\n",
      "|            RS|          GASOLINA|       R$ / litro|       5.54|       7.33|     1.79|\n",
      "|            MA|          GASOLINA|       R$ / litro|       5.25|       6.93|1.6799998|\n",
      "|            PA|          GASOLINA|       R$ / litro|       5.65|       7.29|1.6399999|\n",
      "|            MG|          GASOLINA|       R$ / litro|       5.15|       6.79|1.6399999|\n",
      "|            MS|GASOLINA ADITIVADA|       R$ / litro|       5.59|       7.18|1.5899997|\n",
      "|            CE|            ETANOL|       R$ / litro|       4.09|       5.66|1.5699997|\n",
      "+--------------+------------------+-----------------+-----------+-----------+---------+\n",
      "only showing top 20 rows\n",
      "\n"
     ]
    }
   ],
   "source": [
    "df_precos_analise.show()"
   ]
  },
  {
   "cell_type": "code",
   "execution_count": null,
   "id": "aa54c460-ac43-4db1-b5af-3b7a9376b0ef",
   "metadata": {},
   "outputs": [],
   "source": []
  },
  {
   "cell_type": "code",
   "execution_count": null,
   "id": "67bf7d5f-5a81-43e0-9fa5-5d692d5b4c40",
   "metadata": {},
   "outputs": [],
   "source": []
  },
  {
   "cell_type": "code",
   "execution_count": null,
   "id": "a1310e22-5883-4e23-a80e-fbd33ace4fda",
   "metadata": {},
   "outputs": [],
   "source": []
  }
 ],
 "metadata": {
  "kernelspec": {
   "display_name": "Python 3 (ipykernel)",
   "language": "python",
   "name": "python3"
  },
  "language_info": {
   "codemirror_mode": {
    "name": "ipython",
    "version": 3
   },
   "file_extension": ".py",
   "mimetype": "text/x-python",
   "name": "python",
   "nbconvert_exporter": "python",
   "pygments_lexer": "ipython3",
   "version": "3.10.12"
  }
 },
 "nbformat": 4,
 "nbformat_minor": 5
}
